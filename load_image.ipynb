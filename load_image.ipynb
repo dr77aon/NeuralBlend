{
  "nbformat": 4,
  "nbformat_minor": 0,
  "metadata": {
    "colab": {
      "provenance": [],
      "include_colab_link": true
    },
    "kernelspec": {
      "name": "python3",
      "display_name": "Python 3"
    },
    "language_info": {
      "name": "python"
    }
  },
  "cells": [
    {
      "cell_type": "markdown",
      "metadata": {
        "id": "view-in-github",
        "colab_type": "text"
      },
      "source": [
        "<a href=\"https://colab.research.google.com/github/arun8166/NeuralBlend/blob/main/Copy_of_load_image.ipynb\" target=\"_parent\"><img src=\"https://colab.research.google.com/assets/colab-badge.svg\" alt=\"Open In Colab\"/></a>"
      ]
    },
    {
      "cell_type": "code",
      "execution_count": null,
      "metadata": {
        "id": "t1yg_6S_7wHg"
      },
      "outputs": [],
      "source": [
        "import cv2\n",
        "import requests\n",
        "import numpy as np\n",
        "from io import BytesIO\n",
        "\n"
      ]
    },
    {
      "cell_type": "markdown",
      "source": [],
      "metadata": {
        "id": "cUqnpbMC4xgk"
      }
    },
    {
      "cell_type": "code",
      "source": [
        "def load_image_from_url(url):\n",
        "    response = requests.get(url)\n",
        "    image_data = np.frombuffer(response.content, np.uint8)\n",
        "    image = cv2.imdecode(image_data, cv2.IMREAD_COLOR)\n",
        "    image = cv2.cvtColor(image, cv2.COLOR_BGR2RGB)\n",
        "    return image\n",
        "\n"
      ],
      "metadata": {
        "id": "VHkjHzNJ8H2x"
      },
      "execution_count": null,
      "outputs": []
    }
  ]
}
